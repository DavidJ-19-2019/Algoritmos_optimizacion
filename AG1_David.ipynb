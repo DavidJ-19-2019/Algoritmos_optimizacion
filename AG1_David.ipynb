{
  "nbformat": 4,
  "nbformat_minor": 0,
  "metadata": {
    "colab": {
      "name": "AG1_David.ipynb",
      "provenance": [],
      "collapsed_sections": [],
      "authorship_tag": "ABX9TyMUL/1jE0IP25HThctnYrn5",
      "include_colab_link": true
    },
    "kernelspec": {
      "name": "python3",
      "display_name": "Python 3"
    }
  },
  "cells": [
    {
      "cell_type": "markdown",
      "metadata": {
        "id": "view-in-github",
        "colab_type": "text"
      },
      "source": [
        "<a href=\"https://colab.research.google.com/github/DavidJ-19-2019/Algoritmos_optimizacion/blob/master/AG1_David.ipynb\" target=\"_parent\"><img src=\"https://colab.research.google.com/assets/colab-badge.svg\" alt=\"Open In Colab\"/></a>"
      ]
    },
    {
      "cell_type": "markdown",
      "metadata": {
        "id": "Se9yWTUh4kgV",
        "colab_type": "text"
      },
      "source": [
        "AG1 Algoritmos de optimización\n",
        "\n",
        "1.   Elemento de lista\n",
        "2.   Elemento de lista\n",
        "\n",
        "\n",
        "David Jordán Velilla<br>\n",
        "https://colab.research.google.com/drive/1Mx0tFFyPnvmmDkKqIdW4C1PlAFevRVWi"
      ]
    },
    {
      "cell_type": "code",
      "metadata": {
        "id": "M3S8nszrmkim",
        "colab_type": "code",
        "outputId": "250b6569-ffd2-4a67-9a50-7723e0f34765",
        "colab": {
          "base_uri": "https://localhost:8080/",
          "height": 146
        }
      },
      "source": [
        "#Torres de Hanoi hecho por mí\n",
        "#Para pasar una torre de 64 discos desde la torre 1 hasta la torre 3\n",
        "#Aplicando algoritmo Divide y Vencerás*:\n",
        "#Pasartorre(64,1,3)=Pasartorre(63,1,2) y Pasardiscoaguja(1,3) y Pasartorre(63,2,3)\n",
        "#Uso la torre 2 como intermedia. De tal forma que mi problema se reduce a\n",
        "#Pasar una torre de 63 discos desde la torre 1 a la torre 2\n",
        "#De esta forma me queda el disco de mayor tamaño en la torre 1, y\n",
        "#63 discos en torre 2. Posteriormente paso disco 1 de aguja 1 a aguja 3 y\n",
        "#Torre de 63 discos de torre 2 a torre 3. Con lo cual está el procedimiento casi\n",
        "#Ahora hace falta desglosar el procedimiento hasta llegar al disco inferior\n",
        "#La pregunta es como hago Pasartorre(63,1,2) de antes ya que no he llegado a la torre 3\n",
        "#Aplicando algoritmo Divide y Vencerás:\n",
        "#Pasartorre(63,1,2)=Pasartorre(62,1,3) y Pasardiscoaguja(1,2) y Pasartorre(62,3,2) ----\n",
        "#¿Y como hago Pasartorre(62,3,2) del paso anterior, ya que ni muchísimo menos he\n",
        "#He pasado todo a la torre 3, al tener que usar en este paso la torre 2 como destino\n",
        "#Pasartorre(62,3,2)=Pasartorre(61,3,1) y Pasardiscoaguja(3,2) y Pasartorre(61,1,2)+++++\n",
        "#Aquí ya se puede intuir el algoritmo que hace falta ya que Pt(63,1,2) y Pt(61,1,2)\n",
        "#Son idénticos y podemos generalizar un algoritmo: Pasar n discos de a, a b usando c\n",
        "#Del paso ----:\n",
        "#Pasartorre(n,a,b,c)=Pasartorre(n-1,a,c,b) y Pasardisco(a,b) y Pasartorre(n-1,c,b,a)\n",
        "#Del paso ++++:\n",
        "#Pasartorre(n-1,c,b,a)=Pasartorre(n-2,c,a,b) y Pasardisco(c,b) y Pasartorre(n-2,a,b,c)\n",
        "#Si hacemos un cambio de variable a=c, b=b, c=a, cambiamos a por c y c por a\n",
        "#Estamos en el primer caso, ya que es independiente para el PC el nombre solo importa orden\n",
        "def pasardisco(discodesdetorre, discoatorre):\n",
        "  print('Mueve disco desde torre ' ,discodesdetorre, ' hasta torre ', discoatorre)\n",
        "def pasartorresetdiscos(alturadiscos, deagujatorre, haciaagujatorre, usaragujatorre):\n",
        "  if alturadiscos==1:\n",
        "    pasardisco(deagujatorre, haciaagujatorre)\n",
        "  else:\n",
        "    pasartorresetdiscos(alturadiscos-1, deagujatorre, usaragujatorre, haciaagujatorre)\n",
        "    pasardisco(deagujatorre, haciaagujatorre)\n",
        "    pasartorresetdiscos(alturadiscos-1, usaragujatorre, haciaagujatorre, deagujatorre)\n",
        "  \n",
        "\n",
        "\n",
        "pasartorresetdiscos(3,1,3,2)"
      ],
      "execution_count": 0,
      "outputs": [
        {
          "output_type": "stream",
          "text": [
            "Mueve disco desde torre  1  hasta torre  3\n",
            "Mueve disco desde torre  1  hasta torre  2\n",
            "Mueve disco desde torre  3  hasta torre  2\n",
            "Mueve disco desde torre  1  hasta torre  3\n",
            "Mueve disco desde torre  2  hasta torre  1\n",
            "Mueve disco desde torre  2  hasta torre  3\n",
            "Mueve disco desde torre  1  hasta torre  3\n"
          ],
          "name": "stdout"
        }
      ]
    },
    {
      "cell_type": "code",
      "metadata": {
        "id": "8enp4inB6P1I",
        "colab_type": "code",
        "outputId": "a702f08f-0a2f-414b-bb3a-22709940fe12",
        "colab": {
          "base_uri": "https://localhost:8080/",
          "height": 146
        }
      },
      "source": [
        "def torres(N, desde, hasta):\n",
        "  if(N==1):\n",
        "    print('Lleva la ficha desde ' ,desde, 'hasta ', hasta)\n",
        "  else:\n",
        "    #Este numero es el pivote\n",
        "    torres(N-1, desde, 6-desde-hasta)\n",
        "    print('Lleva la ficha desde ', desde, ' hasta ', hasta)\n",
        "    torres(N-1, 6-desde-hasta, hasta)\n",
        "\n",
        "\n",
        "#De la torre 1 a la torre 3 con 4 fichas\n",
        "torres(3,1,3)"
      ],
      "execution_count": 0,
      "outputs": [
        {
          "output_type": "stream",
          "text": [
            "Lleva la ficha desde  1 hasta  3\n",
            "Lleva la ficha desde  1  hasta  2\n",
            "Lleva la ficha desde  3 hasta  2\n",
            "Lleva la ficha desde  1  hasta  3\n",
            "Lleva la ficha desde  2 hasta  1\n",
            "Lleva la ficha desde  2  hasta  3\n",
            "Lleva la ficha desde  1 hasta  3\n"
          ],
          "name": "stdout"
        }
      ]
    },
    {
      "cell_type": "code",
      "metadata": {
        "id": "Oig570g3KWRz",
        "colab_type": "code",
        "outputId": "a1ba73db-0577-4b48-f1b2-31e10e4641d9",
        "colab": {
          "base_uri": "https://localhost:8080/",
          "height": 421
        }
      },
      "source": [
        "from itertools import permutations\n",
        "N=4\n",
        "#N=8\n",
        "sol=0\n",
        "cols = range(N)\n",
        "#Al ser N=4 hago 4*3*2*1=24 permutaciones\n",
        "for c in permutations(cols):\n",
        "  #Busco con el if las x para que no se amenacen las diagonales\n",
        "  if N==len(set(c[i]+i for i in cols))==len(set(c[i]-i for i in cols)):\n",
        "    sol +=1\n",
        "    #lx= len(set(combo[2]-i for i in cols ))\n",
        "    print(N)\n",
        "    print('Solution '+str(sol)+': '+str(c)+'\\n')\n",
        "    print(\"\\n\".join(' o ' * i + ' X' + ' o ' * (N-i-1) for i in c) + \"\\n\\n\\n\\n\")"
      ],
      "execution_count": 0,
      "outputs": [
        {
          "output_type": "stream",
          "text": [
            "4\n",
            "Solution 1: (1, 3, 0, 2)\n",
            "\n",
            " o  X o  o \n",
            " o  o  o  X\n",
            " X o  o  o \n",
            " o  o  X o \n",
            "\n",
            "\n",
            "\n",
            "\n",
            "4\n",
            "Solution 2: (2, 0, 3, 1)\n",
            "\n",
            " o  o  X o \n",
            " X o  o  o \n",
            " o  o  o  X\n",
            " o  X o  o \n",
            "\n",
            "\n",
            "\n",
            "\n"
          ],
          "name": "stdout"
        }
      ]
    },
    {
      "cell_type": "code",
      "metadata": {
        "id": "3cPNA4DxCyoi",
        "colab_type": "code",
        "colab": {}
      },
      "source": [
        "def es_prometedora(SOLUCION, etapa):\n",
        "  #print(SOLUCION)\n",
        "  #Si la solucion tiene dos valores iguales no es valida , Dos reinas en la misma fila\n",
        "  for i in range(etapa+1):\n",
        "    #print(\"El valor \" + str(SOLUCION[i]) + \" está \" + str(SOLUCION.count(SOLUCION[i]))+ \"veces\")\n",
        "    if SOLUCION.count(SOLUCION[i]) > 1:\n",
        "      return False\n",
        "\n",
        "    #Verifica las diagonales\n",
        "    for j in range(i+1, etapa+1):\n",
        "      #print(\"Comprobando diagonal de \" + str(i) + \"y\" + str(j))\n",
        "      if abs(i-j) == abs(SOLUCION[i] -SOLUCION[j]):\n",
        "        return False\n",
        "  return True"
      ],
      "execution_count": 0,
      "outputs": []
    },
    {
      "cell_type": "code",
      "metadata": {
        "id": "oHk9I71X7Gw-",
        "colab_type": "code",
        "colab": {}
      },
      "source": [
        "def reinas(N, solucion, etapa): \n",
        "  #Tamaño del tablero\n",
        "  for i in range(1, N+1):\n",
        "    solucion[etapa] = i\n",
        "    # Si la solución no es prometedora debo regresar a la anterior etapa\n",
        "    print(solucion)\n",
        "    if es_prometedora(solucion, etapa):\n",
        "      if etapa == N-1:\n",
        "        print(\"\\n\\nLa solucion es:\")\n",
        "        print(solucion)\n",
        "        escribe(solucion)\n",
        "      else:\n",
        "        print(\"Es prometedora, yo colocaría desde la columna 0 a la i-esima\")\n",
        "        print(\"Las filas en ese orden\")\n",
        "        reinas(N, solucion, etapa+1)\n",
        "    else:\n",
        "      #Si la solución no es prometedora debo regresar a la anterior etapa\n",
        "      print(\"NO PROMETEDORA\\nnnnnnn\")\n",
        "      None\n",
        "    solucion[etapa] = 0\n",
        "    \n"
      ],
      "execution_count": 0,
      "outputs": []
    },
    {
      "cell_type": "code",
      "metadata": {
        "id": "i0vT6BB6F8an",
        "colab_type": "code",
        "outputId": "e2e62cee-c9cf-4b07-a663-93f0cc13e98f",
        "colab": {
          "base_uri": "https://localhost:8080/",
          "height": 629
        }
      },
      "source": [
        "#Con 4 hay muy pocas posibilidades, por tanto lo hago de 8 reinas\n",
        "#En tablero de 8 x 8 para que diagonales no coincidan\n",
        "#3 hace referencia a 4 porque también se cogen la reina 0\n",
        "#Pruebo las dos soluciones del anterior algoritmo\n",
        "reinas(3, [1, 3, 0, 2], 1)\n",
        "reinas(3, [2, 0, 3, 1], 0)"
      ],
      "execution_count": 39,
      "outputs": [
        {
          "output_type": "stream",
          "text": [
            "[1, 1, 0, 2]\n",
            "NO PROMETEDORA\n",
            "nnnnnn\n",
            "[1, 2, 0, 2]\n",
            "NO PROMETEDORA\n",
            "nnnnnn\n",
            "[1, 3, 0, 2]\n",
            "Es prometedora, yo colocaría desde la columna 0 a la i-esima\n",
            "Las filas en ese orden\n",
            "[1, 3, 1, 2]\n",
            "NO PROMETEDORA\n",
            "nnnnnn\n",
            "[1, 3, 2, 2]\n",
            "NO PROMETEDORA\n",
            "nnnnnn\n",
            "[1, 3, 3, 2]\n",
            "NO PROMETEDORA\n",
            "nnnnnn\n",
            "[1, 0, 3, 1]\n",
            "NO PROMETEDORA\n",
            "nnnnnn\n",
            "[2, 0, 3, 1]\n",
            "Es prometedora, yo colocaría desde la columna 0 a la i-esima\n",
            "Las filas en ese orden\n",
            "[2, 1, 3, 1]\n",
            "NO PROMETEDORA\n",
            "nnnnnn\n",
            "[2, 2, 3, 1]\n",
            "NO PROMETEDORA\n",
            "nnnnnn\n",
            "[2, 3, 3, 1]\n",
            "NO PROMETEDORA\n",
            "nnnnnn\n",
            "[3, 0, 3, 1]\n",
            "NO PROMETEDORA\n",
            "nnnnnn\n"
          ],
          "name": "stdout"
        }
      ]
    },
    {
      "cell_type": "code",
      "metadata": {
        "colab_type": "code",
        "outputId": "61226069-354c-4256-825e-0c37abb5996a",
        "id": "e6fod1FADqh5",
        "colab": {
          "base_uri": "https://localhost:8080/",
          "height": 495
        }
      },
      "source": [
        "#Calculo de la distancia entre 2 puntos más cercanos\n",
        "#Calculo por fuerza bruta\n",
        "import math\n",
        "import numpy as np\n",
        "numpuntos = int(input('¿Cuántos puntos quieres introducir?: '))\n",
        "listacoordx = []\n",
        "listacoordy = []\n",
        "listacoordz = []\n",
        "puntoxyz = []\n",
        "distanciasvector = []\n",
        "for i in range (numpuntos):\n",
        "  ax = float(input('Introduce primera_coordenada x del punto ' +str(i+1)+ ': '))\n",
        "  ay = float(input('Introduce segunda coordenada y del punto ' +str(i+1)+ ': '))\n",
        "  az = float(input('Introduce tercera coordenada z del punto ' +str(i+1)+ ': ')) \n",
        "  listacoordx.append(ax)\n",
        "  listacoordy.append(ay)\n",
        "  listacoordz.append(az)\n",
        "  puntoxyz.append([ax, ay, az])\n",
        "\n",
        "#Forma de acceder a cada punto. Array de array\n",
        "#for i in range(numpuntos):\n",
        "  #print(puntoxy[i])\n",
        "print('Coordenadas en x: '+str(listacoordx))\n",
        "print('Coordenadas en y: '+str(listacoordy))\n",
        "print('Coordenadas en z: '+str(listacoordz))\n",
        "print(puntoxyz)\n",
        "#Al final escojo la  función y le paso dos vectores uno de x y otro de y \n",
        "#def calcptoscercanos(numeropuntos, vectorpuntosxy)\n",
        "def calcptoscercanos(numeropuntos, vectorpuntosx, vectorpuntosy, vectorpuntosz):\n",
        "  vectordistancias = []\n",
        "  #distmax = 0\n",
        "  for j in range(numeropuntos):\n",
        "    for r in range(numeropuntos):\n",
        "      distanciacuad = (vectorpuntosx[j]-vectorpuntosx[r])**2+(vectorpuntosy[j]-vectorpuntosy[r])**2 +(vectorpuntosz[j]-vectorpuntosz[r])**2                    \n",
        "      if j==r:\n",
        "        #Me aseguro de que no va a coger distancia entre mismos puntos\n",
        "        #No tendría sentido que fuera la mínima y además es 0\n",
        "        distanciacuad= 100000000\n",
        "      #distanciacuad =distmax #print(j, vectorpuntosx) #print(r, vectorpuntosx)\n",
        "      #print('Desde punto: ' +str(j+1)) \n",
        "      #print('a punto: ' +str(r+1)) \n",
        "      #print('Distancia al cuadrado: ' +str(distanciacuad))\n",
        "      #print('es la distancia máxima')\n",
        "      vectordistancias.append(distanciacuad)\n",
        "  return vectordistancias\n",
        "distanciasvector = calcptoscercanos(numpuntos, listacoordx, listacoordy, listacoordz)\n",
        "minimo = np.min(distanciasvector)\n",
        "#Redimensiono para posicionar filas y columnas como distancia entre puntos\n",
        "# Es decir fila 1 columna 2 distancia entre punto 1 y 2\n",
        "distanciasmatriz = np.reshape(distanciasvector, (numpuntos, numpuntos))\n",
        "#Busco el mínimo\n",
        "posicion_minimo = np.argmin(distanciasmatriz)\n",
        "#print(posicion_minimo)\n",
        "#Indice de la posicion minimo\n",
        "posicion_minimo_2D = np.unravel_index(posicion_minimo, distanciasmatriz.shape) \n",
        "print('La distancia al cuadrado es mínima entre los puntos: ')\n",
        "print(str(posicion_minimo_2D[0]+1) + ' y ' + str(posicion_minimo_2D[1]+1))\n",
        "#print(posicion_minimo_2D[1]+1)\n",
        "print('Matriz de distancias al cuadrado entre puntos:')\n",
        "print(distanciasmatriz)\n",
        "print('Mínima distancia al cuadrado: ' +str(minimo))\n",
        "#Busco los índices con los valores mínimos en la matriz\n",
        "arrayptodistmin = distanciasmatriz.argmin(axis=0)\n",
        "print('Indices fila-columna de distancias minimas: ' +str(arrayptodistmin))\n",
        "#Busco los indices en el array y les sumo un +1\n",
        "#Ya que en el array empiezan en 0\n",
        "#ptounodistmin = np.max(arrayptodistmin) +1\n",
        "#ptodosdistmin = np.min(arrayptodistmin) +1\n",
        "#Muchas veces este método con lo cual usaremos el de np.unravel\n",
        "#print('La distancia del punto : ' +str(ptounodistmin))\n",
        "#print('al punto: ' +str(ptodosdistmin))\n",
        "#print('es la mínima')"
      ],
      "execution_count": 0,
      "outputs": [
        {
          "output_type": "stream",
          "text": [
            "¿Cuántos puntos quieres introducir?: 4\n",
            "Introduce primera_coordenada x del punto 1: 3\n",
            "Introduce segunda coordenada y del punto 1: 2\n",
            "Introduce tercera coordenada z del punto 1: 4\n",
            "Introduce primera_coordenada x del punto 2: 5\n",
            "Introduce segunda coordenada y del punto 2: 6\n",
            "Introduce tercera coordenada z del punto 2: 7\n",
            "Introduce primera_coordenada x del punto 3: 8\n",
            "Introduce segunda coordenada y del punto 3: 1\n",
            "Introduce tercera coordenada z del punto 3: 0\n",
            "Introduce primera_coordenada x del punto 4: 3\n",
            "Introduce segunda coordenada y del punto 4: 2\n",
            "Introduce tercera coordenada z del punto 4: 9\n",
            "Coordenadas en x: [3.0, 5.0, 8.0, 3.0]\n",
            "Coordenadas en y: [2.0, 6.0, 1.0, 2.0]\n",
            "Coordenadas en z: [4.0, 7.0, 0.0, 9.0]\n",
            "[[3.0, 2.0, 4.0], [5.0, 6.0, 7.0], [8.0, 1.0, 0.0], [3.0, 2.0, 9.0]]\n",
            "La distancia al cuadrado es mínima entre los puntos: \n",
            "2 y 4\n",
            "Matriz de distancias al cuadrado entre puntos:\n",
            "[[1.00e+08 2.90e+01 4.20e+01 2.50e+01]\n",
            " [2.90e+01 1.00e+08 8.30e+01 2.40e+01]\n",
            " [4.20e+01 8.30e+01 1.00e+08 1.07e+02]\n",
            " [2.50e+01 2.40e+01 1.07e+02 1.00e+08]]\n",
            "Mínima distancia al cuadrado: 24.0\n",
            "Indices fila-columna de distancias minimas: [3 3 0 1]\n"
          ],
          "name": "stdout"
        }
      ]
    },
    {
      "cell_type": "code",
      "metadata": {
        "id": "evWz03Cc56I_",
        "colab_type": "code",
        "colab": {}
      },
      "source": [
        ""
      ],
      "execution_count": 0,
      "outputs": []
    },
    {
      "cell_type": "code",
      "metadata": {
        "colab_type": "code",
        "outputId": "4d2afbb3-e9e5-4786-80ea-8d7208cc30c4",
        "id": "vGcdicsE-xhE",
        "colab": {
          "base_uri": "https://localhost:8080/",
          "height": 275
        }
      },
      "source": [
        "#Calculo de la distancia entre 2 puntos más cercanos\n",
        "#Calculo por técnica de divide y vencerás y vecinos más cercanos\n",
        "import math\n",
        "import random\n",
        "import numpy as np\n",
        "#Declaro 2 listas de puntos de dimension 1 y de dimension 2 y de tamaño 1000\n",
        "Lista_1D = [random.randrange(1,10000)for x in range(1000)]\n",
        "Lista_2D = [(random.randrange(1,10000), random.randrange(1,10000)) for x in range(1000)]\n",
        "#Imprimo las 2 listas\n",
        "print(Lista_1D)\n",
        "print(Lista_2D)\n",
        "#Declaro las variables para conjuntos a y b distancias en x\n",
        "#Distancia entre puntos adyacentes en x\n",
        "dist2DconjuntoAx = []\n",
        "dist2DconjuntoBx = []\n",
        "arrayptosxcoincid = []\n",
        "arraydistptos = []\n",
        "#vectorlista_2D =np.array(Lista_2D)\n",
        "#1ºer paso del algoritmo ordeno las listas y las separo en dos mitades según eje X\n",
        "print('Listas ordenadas')\n",
        "Lista_1D.sort()\n",
        "Lista_2D.sort()\n",
        "print(Lista_1D)\n",
        "print(Lista_2D)\n",
        "#2º paso del algoritmo: Una vez ordenados los vectores, comparo cada uno con su vecino\n",
        "#De todos los que tengan las distancias mínimas en x, considero el que tenga\n",
        "#La menor distancia en y. Algoritmo de vecinos más cercanos podría fallar o no\n",
        "def distancias(punto1x, punto1y, punto2x, punto2y):\n",
        "  distanciasady = math.sqrt((punto1x-punto2x)**2+(punto1y-punto2y)**2)\n",
        "  return distanciasady\n",
        "#def minimosseleccionar\n",
        "for i in range(0,999):\n",
        "  #print('500 numeros primeros coord x', Lista_2D[i][0])\n",
        "  #print('500 numeros primeros coord y', Lista_2D[i][1])\n",
        "  #Comparo cada punto en x con su adyacente\n",
        "  distanciavecinox =abs(Lista_2D[i][0]-Lista_2D[i+1][0])\n",
        "  #Calculo la distancia de cada punto con su adyacente en x ver arriba y veo \n",
        "  #Cuales son iguales a cero\n",
        "  #Calculo la distancia de cada punto con su adyacente tanto en x como en y\n",
        "  #Dichos puntos también entrarán en el conjunto de distancias,\n",
        "  #Aunque no coincidan sus coordenadas en x\n",
        "  #Al final entrarán puntos tales que dist_min_xy<=dist_max_ptosxcoincidentes\n",
        "  distptosady = distancias(Lista_2D[i][0],Lista_2D[i][1], Lista_2D[i+1][0],Lista_2D[i+1][1])\n",
        "  #Añado todas distancias entre puntos adyacentes ordenados según  por índices:\n",
        "  #Entre 0 y 1:arraydistptos[0], entre 1 y 2:arraydistptos[1] y así sucesivamente\n",
        "  arraydistptos.append(distptosady)\n",
        "  #Parto el array de 1000 en 2 conjuntos por la mitad\n",
        "  #Esta podría ser interesante, pero igual no es necesario ya que en vez de comparar la mínima dist\n",
        "  #En cada conjunto de 500 y sacar el mínimo de estas, saco la mínima distancia de adyacentes\n",
        "  #En el conjunto de los 1000 puntos\n",
        "  if (i<500):\n",
        "    dist2DconjuntoAx.append(distanciavecinox)\n",
        "  else:\n",
        "    dist2DconjuntoBx.append(distanciavecinox)\n",
        "  if distanciavecinox ==0:\n",
        "    #print('Puntos con distancia 0 en x en el conjunto A: el', i, 'y el', i+1)\n",
        "    #De todos los puntos adyacentes con distancia en x=0. Comprobamos cuales\n",
        "    #Son los que tienen menor distancia en el eje y, es la norma taxi\n",
        "    distanciavecinoy = abs(Lista_2D[i][1]-Lista_2D[i+1][1])\n",
        "    #print('Su distancia en y:',distanciavecinoy)\n",
        "    #Formo un array con todos los índices de los primeros ptos coincidentes en x\n",
        "    arrayptosxcoincid.append(i)\n",
        "print('Array de distancias adyacentes en x, 500 primeros puntos', dist2DconjuntoAx)\n",
        "print('Array de distancias en x, 500 siguientes puntos', dist2DconjuntoBx)\n",
        "#print('Puntos coincidentes en x, el primero, el siguiente+1, no especifico:', arrayptosxcoincid)\n",
        "#print('Distancias entre puntos adyacentes: ', arraydistptos)\n",
        "#Lo convierto a vector de numpy para buscar el mínimo con facilidad\n",
        "arraydistptonumpy = np.array(arraydistptos)\n",
        "#print('Array distancias puntos adyacentes en numpy:', arraydistptonumpy)\n",
        "minimadist=np.min(arraydistptonumpy)\n",
        "print('Distancia minima:', minimadist)\n",
        "posicionminimo = np.argmin(arraydistptonumpy)\n",
        "print('Entre puntos ordenados: ', posicionminimo, 'y', posicionminimo+1)\n",
        "print('Coordenadas Punto a:',Lista_2D[posicionminimo][0],',',Lista_2D[posicionminimo][1])\n",
        "print('Coordenadas Punto b:',Lista_2D[posicionminimo+1][0],', ',Lista_2D[posicionminimo+1][1])\n",
        "print('Primera opción realizada, sigo investigando, ¿podría ordenarlos según coordenada y? a lo mejor no')\n",
        "print('El siguiente paso es seleccionar los puntos a la izquierda de la línea vertical divisoria x=500')\n",
        "print('Dicha distancia horizontal a la derecha y a la izquierda de la línea ha de ser menor que distmin')\n",
        "minimadisttrunc =math.trunc(minimadist)+1\n",
        "#print(minimadisttrunc)\n",
        "#A continuación sigo iterando de k=500-minimadistrunc hasta k=500+minimadisttrunc de tal forma que busco\n",
        "#La distancia entre cada par de puntos del conjunto\n",
        "distanciasegunda = 0\n",
        "#for k in range(0, 1000):\n",
        "#for j in range(0, 1000):\n",
        "for k in range(500-minimadisttrunc, 500+minimadisttrunc):\n",
        "  for j in range(500+minimadisttrunc, 500+minimadisttrunc):\n",
        "    if k!=j:\n",
        "      distanciasegunda = distancia(Lista_2D[k][0], Lista_2D[k][1], Lista_2D[j][0], Lista_2D[j][1]) \n",
        "      if distanciasegunda<minimadist:\n",
        "        print('La distancia entre los puntos ',k, 'y', j, 'aun es menor e igual a',distanciasegunda)\n",
        "        print('El punto k es:', Lista_2D[k][0], ',', Lista_2D[k][1])\n",
        "        print('El punto j es:', Lista_2D[j][0], ',', Lista_2D[j][1])"
      ],
      "execution_count": 82,
      "outputs": [
        {
          "output_type": "stream",
          "text": [
            "[8996, 3669, 526, 8464, 518, 5296, 9697, 6449, 2944, 4187, 6363, 994, 7442, 9980, 6018, 6905, 5520, 3180, 8962, 2665, 1910, 8174, 1825, 8844, 6090, 1207, 73, 9544, 1832, 5143, 154, 9997, 9968, 1588, 4738, 4063, 4794, 1910, 1932, 8263, 9424, 7075, 5813, 1409, 8629, 3955, 7094, 5459, 2285, 5047, 73, 9040, 4796, 7292, 1256, 4489, 5710, 9664, 4246, 3681, 7102, 4183, 919, 5946, 4661, 7538, 7130, 8575, 7822, 1425, 8169, 3690, 5384, 475, 9126, 3421, 2880, 1381, 2694, 5774, 6420, 2788, 2552, 4046, 4696, 4347, 650, 2948, 2998, 5039, 4011, 6335, 9439, 9045, 7550, 2396, 9092, 9198, 777, 3967, 193, 5307, 4753, 2860, 3518, 4472, 1584, 4251, 7375, 5834, 415, 3679, 7363, 5401, 8841, 5777, 2410, 1742, 3074, 1331, 8748, 1576, 9448, 6509, 8829, 701, 994, 2419, 3175, 3704, 8234, 1711, 7266, 8347, 9950, 3309, 6389, 2011, 9883, 8544, 4313, 6081, 1596, 8385, 2820, 1207, 8854, 4772, 714, 6986, 5552, 2735, 9712, 2906, 2105, 6263, 3188, 7638, 1073, 4600, 8062, 2339, 5375, 3972, 3406, 595, 3471, 9800, 9319, 7607, 2301, 1967, 5940, 2657, 1065, 6319, 9746, 4376, 3486, 1621, 8723, 3216, 2352, 6533, 1876, 2927, 47, 3047, 8846, 8919, 7040, 959, 686, 1671, 2099, 7267, 2840, 4358, 617, 9473, 9982, 5757, 6533, 6435, 4124, 6128, 7138, 2348, 7504, 341, 6570, 7633, 4697, 4956, 5649, 3319, 8694, 8944, 4767, 4632, 9874, 4413, 352, 5719, 9356, 8834, 7307, 7517, 1494, 6703, 2759, 604, 7574, 1158, 4465, 748, 7102, 5674, 1890, 8392, 8033, 5075, 2766, 8402, 3755, 9228, 3293, 1076, 5923, 6506, 1297, 3697, 3129, 3596, 2811, 6522, 916, 8070, 9293, 1024, 492, 4602, 7647, 8357, 4650, 1298, 4465, 8856, 739, 125, 9108, 3363, 3161, 21, 5092, 7457, 4743, 5963, 3814, 108, 7476, 1809, 8019, 955, 6360, 6708, 1286, 3665, 8099, 7816, 7657, 4724, 9536, 8375, 7907, 3644, 5877, 7701, 5468, 574, 8137, 1389, 1206, 4038, 5760, 2669, 2695, 4253, 7877, 3477, 7449, 7067, 4373, 5520, 2204, 8652, 7178, 6382, 6419, 157, 4817, 3853, 1638, 5274, 9435, 4259, 3517, 2544, 377, 6850, 1247, 144, 70, 2189, 2207, 2074, 8964, 3497, 2744, 9758, 2772, 659, 7149, 9430, 1352, 2126, 4126, 2246, 3858, 6815, 7523, 2145, 7451, 9215, 6752, 1139, 5838, 833, 34, 9791, 6427, 2289, 3004, 1624, 4394, 7577, 1374, 7342, 2278, 1764, 7256, 4920, 1247, 2387, 6041, 173, 6088, 7586, 3102, 1085, 6203, 4566, 4952, 2074, 4992, 7004, 5758, 8232, 5154, 5857, 4971, 8863, 7820, 6329, 2150, 7509, 5996, 7900, 6454, 6572, 7264, 2365, 6079, 2888, 6416, 7846, 6551, 4213, 385, 6872, 4138, 1589, 46, 9727, 4665, 8152, 6221, 7172, 726, 6507, 5088, 3627, 213, 2185, 4203, 5780, 5650, 5451, 1727, 7092, 1659, 9617, 4787, 8492, 2181, 443, 9867, 3658, 3725, 292, 9511, 4323, 4495, 2148, 8385, 5051, 3468, 8194, 1804, 9548, 9139, 8582, 975, 5979, 4051, 1478, 3185, 9112, 3051, 6976, 5011, 4313, 2298, 7984, 6038, 1052, 7823, 3770, 6944, 1418, 2824, 7343, 2784, 2361, 5391, 6528, 7451, 6025, 3139, 8720, 725, 4188, 3985, 2846, 6949, 5378, 6137, 8510, 8766, 8375, 3147, 3989, 9258, 2697, 1722, 4562, 6335, 8785, 5806, 7022, 6462, 6182, 3216, 8102, 2454, 5354, 4694, 4067, 7194, 7524, 2310, 7613, 6881, 563, 7765, 4040, 1957, 9312, 5931, 631, 8388, 8334, 4072, 3276, 8122, 6558, 2477, 6366, 8583, 5100, 6149, 3996, 6968, 631, 2306, 8372, 7306, 4578, 6033, 1207, 1586, 2624, 3770, 4546, 6467, 6949, 5820, 1585, 7572, 1864, 5659, 2783, 7372, 5175, 6464, 8031, 3712, 1937, 5757, 1981, 2064, 4378, 8187, 6330, 9813, 397, 6956, 1463, 3115, 9453, 5311, 5405, 3165, 2425, 1125, 1575, 2598, 6601, 8135, 1053, 9763, 3239, 1586, 71, 8708, 2165, 9821, 2291, 7421, 6752, 955, 3110, 9590, 2812, 748, 7244, 9851, 3967, 5626, 8732, 9710, 2882, 7862, 6683, 4595, 1151, 7110, 6974, 6988, 1062, 320, 4705, 8297, 8927, 5165, 7475, 1806, 6991, 104, 2913, 9995, 4843, 9113, 7113, 63, 8305, 6668, 3869, 6, 9236, 226, 632, 7989, 9415, 5003, 8494, 9977, 9071, 932, 1058, 8008, 4938, 440, 4467, 220, 6039, 1937, 8754, 8797, 4662, 1425, 3456, 5879, 7648, 3925, 2030, 4640, 9321, 8184, 3672, 9562, 4963, 3424, 4249, 3417, 1761, 6262, 8218, 6736, 7384, 4232, 9854, 4958, 9900, 6589, 1848, 4475, 9614, 9878, 8522, 1230, 7030, 8785, 9587, 8059, 6487, 1113, 5790, 9483, 5834, 9767, 9818, 3073, 4016, 9820, 5658, 5679, 6434, 1281, 462, 2407, 6603, 7649, 7932, 3357, 702, 6825, 5307, 3590, 800, 9923, 8752, 6373, 948, 4561, 2236, 5379, 8493, 3788, 114, 1629, 2646, 8432, 4880, 1030, 8969, 7330, 7510, 3167, 3903, 9562, 1848, 2137, 4165, 646, 8558, 9193, 1681, 4367, 2772, 8493, 3339, 1360, 4755, 3593, 8977, 2540, 3055, 8615, 1996, 5424, 1816, 9131, 70, 6883, 3618, 5265, 535, 5977, 9691, 5987, 4897, 2806, 8645, 6293, 2594, 3776, 3757, 182, 4104, 2938, 6400, 6548, 8839, 9480, 2708, 6733, 2078, 1914, 6639, 8702, 4587, 7769, 756, 7328, 6063, 6996, 2472, 2894, 6116, 7112, 6602, 1928, 9194, 6996, 6469, 8965, 9211, 270, 9577, 7276, 8305, 3766, 9843, 5039, 5004, 955, 848, 8389, 1667, 4987, 3697, 5042, 206, 7179, 55, 8466, 5220, 2500, 8650, 6323, 8116, 5027, 8560, 8404, 6860, 9536, 4328, 2135, 7375, 1200, 717, 9372, 8047, 642, 5653, 8696, 7732, 3694, 8750, 2379, 9537, 8303, 6527, 2085, 4166, 4190, 6182, 968, 9563, 8520, 2886, 6886, 6956, 8843, 4819, 8769, 3211, 7203, 642, 7444, 2680, 9189, 2498, 3752, 9620, 5523, 7924, 5680, 1638, 675, 6422, 693, 3919, 5781, 5864, 1160, 8904, 4688, 6369, 4223, 4427, 5994, 9364, 4752, 6712, 5336, 4890, 4379, 6686, 1595, 1616, 4384, 4722, 1058, 1892, 1195, 2160, 4917, 2459, 6483, 3731, 9274, 2952, 679, 8753, 2804, 1868, 2317, 4308, 3634, 4226, 1211, 7370, 4682, 9098, 7106, 8142, 4994, 7898, 2755, 61, 500, 3997, 5649, 7167, 22, 2028, 1543, 2107, 3846, 893, 6495, 1503, 6530, 569, 8418, 3540, 5479, 1771, 9780, 1657, 3572, 1486, 2180, 5032, 8820, 3605, 4809, 6567, 310, 540, 1982, 1020, 953, 7578, 58, 8975, 2624, 70, 1191, 7107, 8507, 7987, 704, 693, 6332, 6084, 3854, 8417, 9336, 4280, 1544, 7731, 2659, 9745, 1572, 3410, 9615, 6767, 7025, 6248, 4225, 7344, 6281, 519, 9693, 6511, 427, 8011, 2464, 2063, 2190, 2408, 597, 1100, 840, 2795, 1852, 3069]\n",
            "[(1965, 1439), (8660, 9712), (702, 2935), (7974, 9224), (1264, 5388), (3064, 9175), (3885, 3408), (4882, 4295), (9347, 4520), (6598, 8663), (646, 1895), (6248, 1523), (7083, 4846), (4110, 6787), (8900, 7854), (4063, 4331), (2774, 2088), (8330, 8085), (1527, 1658), (3105, 7491), (3578, 6961), (5226, 6638), (2631, 74), (7524, 3801), (8959, 4458), (6021, 6085), (2680, 6683), (4732, 1942), (6710, 2016), (6646, 5664), (2236, 6152), (7113, 2135), (9214, 8612), (654, 4594), (2809, 7361), (8841, 8539), (4169, 315), (988, 3203), (6966, 8695), (793, 9650), (8196, 8191), (1957, 4619), (7323, 8343), (4366, 9140), (6034, 5018), (6706, 1070), (8537, 1901), (5195, 3309), (6208, 8299), (6320, 9426), (3588, 3476), (2094, 4753), (9687, 1239), (9924, 9941), (2370, 1551), (7999, 2037), (9688, 5187), (1913, 8626), (4079, 1983), (2487, 6582), (7965, 8307), (1983, 4398), (1786, 313), (2516, 1924), (1215, 1703), (1124, 707), (2554, 2080), (2065, 6331), (5270, 9424), (4800, 6046), (9402, 6193), (8394, 5197), (7025, 8431), (8041, 4497), (6487, 8595), (9014, 287), (4612, 2903), (2395, 6305), (6632, 4470), (6603, 9126), (4443, 2918), (203, 9188), (745, 6576), (928, 1152), (2888, 5604), (144, 1894), (8370, 9650), (9823, 7230), (9833, 388), (2774, 421), (5183, 6844), (6496, 3372), (5775, 499), (7036, 6805), (1090, 7914), (5124, 8351), (7401, 4697), (6878, 1878), (752, 2898), (9408, 7570), (2377, 5458), (8918, 8267), (6005, 4143), (5616, 8908), (518, 4096), (9534, 528), (7537, 84), (5634, 1653), (9111, 7302), (8581, 4046), (8780, 1085), (1614, 3713), (4124, 4532), (624, 8928), (1329, 3267), (1659, 4999), (8734, 6364), (7816, 1576), (5908, 2311), (3174, 2352), (2159, 773), (6100, 5272), (1154, 7886), (7113, 9417), (4079, 7989), (4004, 3386), (7275, 3045), (1819, 767), (972, 5620), (5550, 6682), (1210, 6796), (3067, 9121), (9731, 2324), (6741, 266), (5943, 6939), (3289, 3001), (3312, 1031), (9650, 7338), (221, 2428), (4525, 7653), (8473, 4235), (5996, 3834), (1917, 7777), (6730, 5415), (6538, 1847), (483, 9867), (1887, 3739), (1330, 8974), (7202, 2887), (445, 2901), (405, 5529), (6423, 6069), (5196, 3883), (4335, 6857), (3309, 937), (1656, 2067), (7189, 2760), (3596, 856), (8081, 3324), (401, 4117), (4677, 3815), (2479, 1280), (1902, 8985), (930, 364), (9957, 4132), (1809, 301), (7383, 6746), (3416, 1926), (6450, 1780), (13, 495), (5573, 2596), (1716, 926), (5601, 2981), (4759, 3978), (3992, 6382), (6043, 8478), (4137, 5546), (5277, 670), (7464, 7467), (7957, 7977), (5708, 6118), (6771, 7503), (1343, 7768), (6331, 842), (6903, 2953), (3762, 5606), (5952, 4526), (757, 6211), (8984, 5358), (6165, 5369), (5424, 3620), (4141, 7501), (8838, 1719), (5758, 2209), (5836, 5353), (994, 2549), (2972, 1495), (2886, 2240), (7095, 1757), (1818, 1792), (7219, 8600), (2241, 4089), (252, 9176), (1273, 5744), (6302, 5204), (4705, 8393), (4152, 7737), (2707, 799), (5120, 635), (7194, 7662), (3003, 6874), (8527, 7863), (8363, 7678), (5080, 7641), (1515, 1539), (7993, 2299), (2259, 8228), (6052, 4619), (3686, 8337), (2330, 1693), (7852, 2653), (8251, 6922), (2124, 5457), (6909, 19), (7218, 4318), (8337, 6638), (1162, 6486), (9579, 3876), (5245, 7575), (864, 691), (1494, 6766), (4751, 2957), (4150, 8986), (5632, 1684), (1104, 4499), (9754, 2273), (4422, 2732), (1509, 3223), (3178, 1132), (2518, 8610), (1263, 2260), (9087, 7369), (2053, 7236), (1728, 3615), (481, 808), (256, 1773), (7127, 9521), (3211, 985), (9468, 1963), (9248, 2003), (3897, 9971), (560, 5089), (3347, 5277), (8114, 197), (9481, 6459), (5630, 7793), (8552, 1184), (9065, 2556), (4703, 1610), (9063, 42), (2223, 8717), (442, 9322), (6202, 6987), (9397, 1660), (3976, 8035), (1719, 8193), (6376, 5709), (6721, 4532), (8290, 9777), (6444, 7720), (9267, 4200), (4944, 9436), (5980, 2540), (6914, 8682), (7301, 4155), (4909, 8146), (3021, 2341), (40, 5345), (7640, 5591), (5154, 1389), (1484, 4516), (106, 8778), (9725, 4420), (8787, 6581), (7894, 8676), (9814, 7868), (8080, 2560), (6137, 2478), (1942, 5577), (7702, 7012), (2612, 4693), (6823, 2867), (2628, 1354), (5486, 6476), (3841, 89), (7471, 4571), (8063, 3388), (2165, 5476), (1468, 3686), (1928, 2586), (5273, 7186), (7755, 8894), (4972, 2426), (916, 4885), (4098, 1043), (4635, 1969), (4011, 8310), (6577, 5175), (6797, 2394), (7487, 4336), (9644, 2523), (8148, 4055), (6248, 4564), (4806, 9956), (6439, 8221), (6220, 3707), (2613, 4224), (7876, 7583), (3578, 7372), (167, 9509), (2536, 3921), (1835, 2194), (2831, 6752), (7039, 7443), (3291, 6493), (4131, 5315), (8404, 4539), (2792, 2211), (9879, 6692), (8740, 5089), (549, 8880), (7054, 4306), (1737, 299), (4021, 1136), (3241, 4225), (9596, 1907), (9904, 2440), (7036, 810), (4962, 5008), (4089, 8169), (9536, 6400), (1504, 521), (1054, 2255), (1455, 9348), (6882, 4324), (2357, 5590), (4457, 7875), (5112, 9283), (6698, 3936), (8576, 8369), (4755, 8693), (487, 7149), (7347, 4861), (2869, 7810), (494, 110), (2133, 3471), (6510, 5785), (3594, 4438), (5685, 4947), (4540, 2210), (3088, 4578), (101, 3575), (9163, 6263), (922, 3014), (140, 2027), (4199, 8969), (1272, 4393), (7225, 1288), (6633, 6534), (3468, 8504), (9292, 3960), (8303, 7964), (6628, 5191), (3800, 9160), (576, 4046), (5197, 4856), (3064, 3826), (9844, 2109), (5234, 8418), (4431, 3115), (7439, 8051), (161, 7854), (1228, 4010), (5358, 1130), (3057, 1559), (277, 25), (3923, 4636), (9480, 6829), (2210, 225), (5359, 3041), (7323, 6473), (3533, 1478), (9236, 7499), (9079, 1763), (3367, 7594), (5937, 2734), (7756, 9513), (1106, 8310), (717, 2030), (5613, 1585), (7494, 2445), (3853, 4526), (1368, 3634), (8998, 6781), (8868, 142), (6407, 9253), (8567, 3710), (3829, 6491), (3742, 700), (6745, 230), (9262, 6173), (4654, 8520), (1652, 5863), (7313, 3377), (6046, 7539), (5818, 5086), (7993, 7007), (9931, 7222), (2982, 6428), (672, 9496), (3089, 7299), (2757, 2169), (6726, 3109), (3131, 2011), (58, 7427), (4413, 7644), (9149, 2236), (8328, 4377), (4953, 1688), (6800, 2802), (1247, 5442), (2536, 9568), (3980, 2062), (7568, 3928), (3065, 6573), (7164, 6557), (587, 6980), (7655, 7186), (4124, 5588), (1645, 1419), (721, 6434), (7624, 9325), (6743, 6040), (7577, 4141), (8320, 5607), (8949, 3964), (7903, 214), (2240, 780), (7584, 1935), (7371, 7784), (7394, 6548), (7072, 5706), (8892, 6243), (6074, 3067), (1640, 9748), (8083, 3629), (1314, 3814), (215, 8807), (2624, 4074), (1878, 7088), (9533, 8616), (9538, 2785), (3403, 7740), (4371, 4613), (3189, 1059), (5174, 2368), (4457, 7520), (5067, 2078), (9442, 8807), (4651, 3205), (9367, 7541), (5844, 6321), (4565, 1361), (8368, 1759), (6209, 2922), (5631, 432), (2926, 4621), (2246, 546), (4467, 4762), (1257, 6440), (9076, 4232), (3990, 2040), (2866, 7483), (6277, 5738), (227, 6502), (3681, 4213), (5997, 6818), (2114, 967), (2211, 6932), (9438, 679), (4944, 9895), (5245, 9533), (2256, 2373), (3037, 6132), (8322, 3799), (1538, 4272), (5953, 9299), (8526, 5745), (4897, 5278), (5462, 273), (3198, 1030), (5620, 2072), (1844, 1462), (1640, 7443), (5548, 302), (9904, 5180), (3612, 3988), (7852, 9314), (4085, 3222), (4171, 775), (9770, 8661), (5291, 2454), (5451, 4418), (3900, 3080), (1986, 8803), (3431, 79), (3446, 9576), (9133, 8851), (4870, 3540), (45, 809), (322, 8372), (1648, 8883), (6728, 3289), (4624, 3131), (4, 8682), (461, 7495), (9451, 7518), (2720, 9199), (7806, 4062), (6749, 9742), (8835, 5640), (6574, 1896), (110, 6380), (4294, 5563), (8482, 6455), (2907, 426), (9118, 7299), (1658, 378), (8957, 5831), (2821, 8578), (4240, 6972), (1720, 1006), (561, 7938), (3851, 9108), (1930, 2398), (4335, 2079), (1001, 7465), (3163, 700), (3189, 7932), (9437, 4112), (6198, 1462), (6112, 5196), (8374, 9754), (1446, 8415), (3549, 9888), (6717, 3275), (2838, 7172), (6391, 282), (2093, 6375), (168, 2009), (5316, 686), (1970, 4696), (3448, 8366), (81, 1109), (7988, 4135), (7010, 2508), (1072, 3281), (9103, 4204), (4715, 9267), (1755, 3164), (3148, 1530), (6630, 6224), (3094, 5402), (7257, 2152), (1909, 5567), (1802, 4169), (8365, 5318), (8126, 4227), (7775, 1875), (615, 251), (6723, 5440), (7454, 646), (9236, 8861), (8490, 4561), (8781, 3086), (1089, 9149), (2564, 8412), (9127, 8742), (2754, 7773), (9860, 5810), (5751, 4057), (5937, 374), (5857, 3413), (7194, 1046), (8471, 148), (3747, 6947), (4495, 7031), (8373, 7845), (8857, 9160), (7936, 7420), (9685, 6754), (2118, 3071), (1727, 3064), (2923, 255), (8037, 7866), (8678, 1252), (2256, 7249), (5481, 9266), (7144, 4989), (146, 2912), (9910, 7319), (5194, 3031), (201, 4312), (5681, 6877), (7106, 9196), (5083, 7781), (2921, 4936), (5038, 5840), (6185, 1816), (2082, 2113), (2948, 923), (3558, 6192), (8733, 6412), (4957, 797), (1269, 1740), (8854, 2316), (1212, 2651), (1408, 9412), (5312, 6390), (5586, 6850), (7090, 8633), (5764, 4853), (4686, 1080), (911, 688), (2296, 941), (8248, 9399), (1163, 7105), (6242, 760), (1248, 5976), (136, 20), (3538, 6780), (136, 1345), (5478, 1628), (8549, 5275), (2272, 564), (8793, 9121), (8582, 4123), (1425, 3809), (6434, 299), (4408, 4629), (3753, 4628), (9887, 8178), (8673, 6002), (9638, 1798), (6310, 1007), (8409, 6184), (7713, 4998), (5145, 9544), (2580, 9186), (5390, 5540), (18, 1454), (4478, 2418), (537, 3803), (4670, 7855), (6094, 9391), (3071, 2577), (1011, 2178), (2136, 1904), (5456, 9421), (619, 9464), (4410, 7319), (7787, 1335), (7042, 5579), (6315, 9655), (9646, 3985), (4524, 8332), (8396, 8060), (6559, 1594), (1308, 5765), (7070, 7604), (7504, 685), (9887, 36), (2776, 2358), (3812, 6830), (5891, 7294), (7920, 7895), (4256, 2421), (178, 7385), (2713, 5263), (2883, 7717), (5017, 1780), (2116, 5879), (4569, 3301), (3642, 4702), (7314, 788), (7379, 6892), (4848, 6335), (7942, 3456), (1566, 7567), (8348, 844), (894, 4260), (9763, 5580), (9509, 2767), (4116, 4995), (8274, 4858), (5658, 9860), (6821, 121), (9041, 3740), (5617, 6728), (1649, 4976), (2182, 3297), (2361, 6561), (8147, 3506), (8995, 5128), (5692, 6070), (7367, 2452), (5759, 3771), (9381, 7678), (2224, 61), (5281, 497), (3145, 2701), (2549, 6317), (5143, 5320), (8415, 3706), (1756, 7167), (784, 6644), (4028, 2524), (2243, 6712), (2139, 1667), (6813, 4302), (7209, 6866), (5130, 4781), (6323, 7607), (8982, 8701), (9002, 6771), (6306, 4954), (2587, 4934), (7748, 8814), (5444, 5896), (8869, 6393), (267, 5023), (4749, 1893), (5334, 2233), (7750, 5537), (1624, 8740), (6828, 4045), (9281, 6146), (3199, 4549), (1704, 6106), (360, 4391), (1374, 7049), (3287, 4910), (7512, 8488), (5108, 950), (7015, 8665), (9231, 7016), (5973, 2320), (7090, 1276), (4929, 3108), (9853, 9644), (664, 7302), (5244, 9641), (2599, 6455), (721, 1606), (5073, 6673), (8228, 5336), (1870, 4683), (4630, 2494), (2913, 9656), (7133, 276), (8823, 2807), (4082, 3336), (2591, 7907), (3412, 4309), (8914, 303), (4138, 3841), (5761, 2851), (4892, 3008), (700, 2145), (6017, 7387), (636, 7367), (6009, 2585), (7781, 1160), (729, 3133), (6525, 4267), (4934, 5980), (9636, 182), (6517, 7288), (8985, 6896), (4903, 3186), (1714, 3375), (9946, 8338), (5107, 2352), (2896, 7575), (9910, 6868), (6333, 576), (6636, 9235), (982, 8373), (9651, 4074), (2529, 5709), (1026, 5027), (3660, 7373), (8339, 548), (9878, 9304), (1732, 1378), (6501, 3454), (5937, 4061), (7557, 8400), (1558, 7292), (1055, 684), (7966, 3254), (3226, 986), (9536, 6490), (7423, 8158), (4572, 6064), (5301, 1376), (9284, 3489), (8805, 5109), (7961, 7656), (5726, 6258), (875, 4235), (2879, 1686), (6166, 1591), (3025, 6310), (7363, 7289), (37, 8972), (9758, 863), (3940, 2200), (9214, 5531), (7190, 1925), (2837, 5455), (5875, 931), (4200, 9811), (8701, 1437), (642, 9006), (1553, 5953), (3570, 8851), (7994, 8170), (135, 5656), (5006, 4359), (8893, 3308), (1326, 7253), (5974, 2267), (3626, 1790), (807, 2902), (1190, 8999), (4338, 9191), (4183, 7644), (7100, 8573), (2170, 9493), (3128, 8438), (4974, 2187), (219, 2332), (497, 6634), (711, 2128), (3380, 223), (8429, 2700), (6933, 8761), (7906, 2090), (4595, 1262), (8585, 5316), (4283, 4176), (3453, 6892), (6376, 8222), (8539, 423), (8491, 6779), (976, 4551), (5317, 5656), (6056, 2726), (1263, 5652), (5573, 8594), (7980, 4314), (5020, 4326), (1730, 3584), (2252, 7391), (8610, 7705), (2974, 7701), (5199, 525), (318, 2819), (1596, 5297), (142, 8887), (4633, 5154), (6055, 3711), (4542, 1891), (5951, 2991), (7115, 4901), (6145, 2542), (3365, 7126), (6529, 7088), (7899, 8582), (5739, 458), (1128, 5906), (9371, 3912), (8757, 3316), (7316, 2809), (7940, 8159), (330, 4792), (2404, 1914), (1528, 2847), (982, 8688), (2506, 928), (2013, 6957), (4914, 4184), (5954, 4200), (1976, 6410), (5660, 5271), (7604, 4327), (4670, 4591), (4242, 7542), (5010, 3571), (5201, 5933), (7051, 9231), (187, 4537), (8042, 9947), (9663, 2969), (7070, 8678), (1674, 1055), (6603, 1144), (9895, 5741), (5412, 2378), (1468, 2112), (3031, 5298), (2826, 2128), (294, 6383), (7269, 1860), (1440, 3815), (3107, 3189), (4175, 7568), (5126, 1457), (480, 4170), (4621, 4320), (1367, 6545), (3981, 4518), (3402, 2534), (8950, 6220), (7590, 9632), (4038, 3540), (2045, 3287), (9021, 7232), (9821, 4793), (4896, 4881), (9997, 4738), (1133, 5348), (2471, 2904), (3478, 8583), (6444, 5479), (3346, 8165), (156, 8347), (2822, 6741), (614, 4216), (7405, 9202), (9265, 8806), (3541, 201), (2868, 3464), (1058, 3362), (2903, 9354), (2405, 1894), (2178, 6106), (9754, 9569), (1875, 5308), (6926, 5591), (154, 6243), (4247, 5837), (7999, 740), (1881, 7578), (2194, 7842), (8143, 5036), (5688, 7292), (3131, 7143), (1422, 6176), (8153, 9567), (1327, 1952), (1407, 9753), (822, 4713), (5611, 9425), (163, 6461), (5275, 6812), (9141, 7598), (3909, 4471), (6082, 1260), (6640, 5507), (1492, 1624), (5061, 543), (1589, 1830), (4584, 5125), (2726, 3603), (5581, 2753), (6743, 3606), (5792, 7352), (9016, 5307), (2881, 7312), (8838, 5659), (746, 4633), (5624, 2962), (2450, 7318), (2608, 4440), (9731, 8341), (3267, 5590), (343, 1621), (5683, 8898)]\n",
            "Listas ordenadas\n",
            "[6, 21, 22, 34, 46, 47, 55, 58, 61, 63, 70, 70, 70, 71, 73, 73, 104, 108, 114, 125, 144, 154, 157, 173, 182, 193, 206, 213, 220, 226, 270, 292, 310, 320, 341, 352, 377, 385, 397, 415, 427, 440, 443, 462, 475, 492, 500, 518, 519, 526, 535, 540, 563, 569, 574, 595, 597, 604, 617, 631, 631, 632, 642, 642, 646, 650, 659, 675, 679, 686, 693, 693, 701, 702, 704, 714, 717, 725, 726, 739, 748, 748, 756, 777, 800, 833, 840, 848, 893, 916, 919, 932, 948, 953, 955, 955, 955, 959, 968, 975, 994, 994, 1020, 1024, 1030, 1052, 1053, 1058, 1058, 1062, 1065, 1073, 1076, 1085, 1100, 1113, 1125, 1139, 1151, 1158, 1160, 1191, 1195, 1200, 1206, 1207, 1207, 1207, 1211, 1230, 1247, 1247, 1256, 1281, 1286, 1297, 1298, 1331, 1352, 1360, 1374, 1381, 1389, 1409, 1418, 1425, 1425, 1463, 1478, 1486, 1494, 1503, 1543, 1544, 1572, 1575, 1576, 1584, 1585, 1586, 1586, 1588, 1589, 1595, 1596, 1616, 1621, 1624, 1629, 1638, 1638, 1657, 1659, 1667, 1671, 1681, 1711, 1722, 1727, 1742, 1761, 1764, 1771, 1804, 1806, 1809, 1816, 1825, 1832, 1848, 1848, 1852, 1864, 1868, 1876, 1890, 1892, 1910, 1910, 1914, 1928, 1932, 1937, 1937, 1957, 1967, 1981, 1982, 1996, 2011, 2028, 2030, 2063, 2064, 2074, 2074, 2078, 2085, 2099, 2105, 2107, 2126, 2135, 2137, 2145, 2148, 2150, 2160, 2165, 2180, 2181, 2185, 2189, 2190, 2204, 2207, 2236, 2246, 2278, 2285, 2289, 2291, 2298, 2301, 2306, 2310, 2317, 2339, 2348, 2352, 2361, 2365, 2379, 2387, 2396, 2407, 2408, 2410, 2419, 2425, 2454, 2459, 2464, 2472, 2477, 2498, 2500, 2540, 2544, 2552, 2594, 2598, 2624, 2624, 2646, 2657, 2659, 2665, 2669, 2680, 2694, 2695, 2697, 2708, 2735, 2744, 2755, 2759, 2766, 2772, 2772, 2783, 2784, 2788, 2795, 2804, 2806, 2811, 2812, 2820, 2824, 2840, 2846, 2860, 2880, 2882, 2886, 2888, 2894, 2906, 2913, 2927, 2938, 2944, 2948, 2952, 2998, 3004, 3047, 3051, 3055, 3069, 3073, 3074, 3102, 3110, 3115, 3129, 3139, 3147, 3161, 3165, 3167, 3175, 3180, 3185, 3188, 3211, 3216, 3216, 3239, 3276, 3293, 3309, 3319, 3339, 3357, 3363, 3406, 3410, 3417, 3421, 3424, 3456, 3468, 3471, 3477, 3486, 3497, 3517, 3518, 3540, 3572, 3590, 3593, 3596, 3605, 3618, 3627, 3634, 3644, 3658, 3665, 3669, 3672, 3679, 3681, 3690, 3694, 3697, 3697, 3704, 3712, 3725, 3731, 3752, 3755, 3757, 3766, 3770, 3770, 3776, 3788, 3814, 3846, 3853, 3854, 3858, 3869, 3903, 3919, 3925, 3955, 3967, 3967, 3972, 3985, 3989, 3996, 3997, 4011, 4016, 4038, 4040, 4046, 4051, 4063, 4067, 4072, 4104, 4124, 4126, 4138, 4165, 4166, 4183, 4187, 4188, 4190, 4203, 4213, 4223, 4225, 4226, 4232, 4246, 4249, 4251, 4253, 4259, 4280, 4308, 4313, 4313, 4323, 4328, 4347, 4358, 4367, 4373, 4376, 4378, 4379, 4384, 4394, 4413, 4427, 4465, 4465, 4467, 4472, 4475, 4489, 4495, 4546, 4561, 4562, 4566, 4578, 4587, 4595, 4600, 4602, 4632, 4640, 4650, 4661, 4662, 4665, 4682, 4688, 4694, 4696, 4697, 4705, 4722, 4724, 4738, 4743, 4752, 4753, 4755, 4767, 4772, 4787, 4794, 4796, 4809, 4817, 4819, 4843, 4880, 4890, 4897, 4917, 4920, 4938, 4952, 4956, 4958, 4963, 4971, 4987, 4992, 4994, 5003, 5004, 5011, 5027, 5032, 5039, 5039, 5042, 5047, 5051, 5075, 5088, 5092, 5100, 5143, 5154, 5165, 5175, 5220, 5265, 5274, 5296, 5307, 5307, 5311, 5336, 5354, 5375, 5378, 5379, 5384, 5391, 5401, 5405, 5424, 5451, 5459, 5468, 5479, 5520, 5520, 5523, 5552, 5626, 5649, 5649, 5650, 5653, 5658, 5659, 5674, 5679, 5680, 5710, 5719, 5757, 5757, 5758, 5760, 5774, 5777, 5780, 5781, 5790, 5806, 5813, 5820, 5834, 5834, 5838, 5857, 5864, 5877, 5879, 5923, 5931, 5940, 5946, 5963, 5977, 5979, 5987, 5994, 5996, 6018, 6025, 6033, 6038, 6039, 6041, 6063, 6079, 6081, 6084, 6088, 6090, 6116, 6128, 6137, 6149, 6182, 6182, 6203, 6221, 6248, 6262, 6263, 6281, 6293, 6319, 6323, 6329, 6330, 6332, 6335, 6335, 6360, 6363, 6366, 6369, 6373, 6382, 6389, 6400, 6416, 6419, 6420, 6422, 6427, 6434, 6435, 6449, 6454, 6462, 6464, 6467, 6469, 6483, 6487, 6495, 6506, 6507, 6509, 6511, 6522, 6527, 6528, 6530, 6533, 6533, 6548, 6551, 6558, 6567, 6570, 6572, 6589, 6601, 6602, 6603, 6639, 6668, 6683, 6686, 6703, 6708, 6712, 6733, 6736, 6752, 6752, 6767, 6815, 6825, 6850, 6860, 6872, 6881, 6883, 6886, 6905, 6944, 6949, 6949, 6956, 6956, 6968, 6974, 6976, 6986, 6988, 6991, 6996, 6996, 7004, 7022, 7025, 7030, 7040, 7067, 7075, 7092, 7094, 7102, 7102, 7106, 7107, 7110, 7112, 7113, 7130, 7138, 7149, 7167, 7172, 7178, 7179, 7194, 7203, 7244, 7256, 7264, 7266, 7267, 7276, 7292, 7306, 7307, 7328, 7330, 7342, 7343, 7344, 7363, 7370, 7372, 7375, 7375, 7384, 7421, 7442, 7444, 7449, 7451, 7451, 7457, 7475, 7476, 7504, 7509, 7510, 7517, 7523, 7524, 7538, 7550, 7572, 7574, 7577, 7578, 7586, 7607, 7613, 7633, 7638, 7647, 7648, 7649, 7657, 7701, 7731, 7732, 7765, 7769, 7816, 7820, 7822, 7823, 7846, 7862, 7877, 7898, 7900, 7907, 7924, 7932, 7984, 7987, 7989, 8008, 8011, 8019, 8031, 8033, 8047, 8059, 8062, 8070, 8099, 8102, 8116, 8122, 8135, 8137, 8142, 8152, 8169, 8174, 8184, 8187, 8194, 8218, 8232, 8234, 8263, 8297, 8303, 8305, 8305, 8334, 8347, 8357, 8372, 8375, 8375, 8385, 8385, 8388, 8389, 8392, 8402, 8404, 8417, 8418, 8432, 8464, 8466, 8492, 8493, 8493, 8494, 8507, 8510, 8520, 8522, 8544, 8558, 8560, 8575, 8582, 8583, 8615, 8629, 8645, 8650, 8652, 8694, 8696, 8702, 8708, 8720, 8723, 8732, 8748, 8750, 8752, 8753, 8754, 8766, 8769, 8785, 8785, 8797, 8820, 8829, 8834, 8839, 8841, 8843, 8844, 8846, 8854, 8856, 8863, 8904, 8919, 8927, 8944, 8962, 8964, 8965, 8969, 8975, 8977, 8996, 9040, 9045, 9071, 9092, 9098, 9108, 9112, 9113, 9126, 9131, 9139, 9189, 9193, 9194, 9198, 9211, 9215, 9228, 9236, 9258, 9274, 9293, 9312, 9319, 9321, 9336, 9356, 9364, 9372, 9415, 9424, 9430, 9435, 9439, 9448, 9453, 9473, 9480, 9483, 9511, 9536, 9536, 9537, 9544, 9548, 9562, 9562, 9563, 9577, 9587, 9590, 9614, 9615, 9617, 9620, 9664, 9691, 9693, 9697, 9710, 9712, 9727, 9745, 9746, 9758, 9763, 9767, 9780, 9791, 9800, 9813, 9818, 9820, 9821, 9843, 9851, 9854, 9867, 9874, 9878, 9883, 9900, 9923, 9950, 9968, 9977, 9980, 9982, 9995, 9997]\n",
            "[(4, 8682), (13, 495), (18, 1454), (37, 8972), (40, 5345), (45, 809), (58, 7427), (81, 1109), (101, 3575), (106, 8778), (110, 6380), (135, 5656), (136, 20), (136, 1345), (140, 2027), (142, 8887), (144, 1894), (146, 2912), (154, 6243), (156, 8347), (161, 7854), (163, 6461), (167, 9509), (168, 2009), (178, 7385), (187, 4537), (201, 4312), (203, 9188), (215, 8807), (219, 2332), (221, 2428), (227, 6502), (252, 9176), (256, 1773), (267, 5023), (277, 25), (294, 6383), (318, 2819), (322, 8372), (330, 4792), (343, 1621), (360, 4391), (401, 4117), (405, 5529), (442, 9322), (445, 2901), (461, 7495), (480, 4170), (481, 808), (483, 9867), (487, 7149), (494, 110), (497, 6634), (518, 4096), (537, 3803), (549, 8880), (560, 5089), (561, 7938), (576, 4046), (587, 6980), (614, 4216), (615, 251), (619, 9464), (624, 8928), (636, 7367), (642, 9006), (646, 1895), (654, 4594), (664, 7302), (672, 9496), (700, 2145), (702, 2935), (711, 2128), (717, 2030), (721, 1606), (721, 6434), (729, 3133), (745, 6576), (746, 4633), (752, 2898), (757, 6211), (784, 6644), (793, 9650), (807, 2902), (822, 4713), (864, 691), (875, 4235), (894, 4260), (911, 688), (916, 4885), (922, 3014), (928, 1152), (930, 364), (972, 5620), (976, 4551), (982, 8373), (982, 8688), (988, 3203), (994, 2549), (1001, 7465), (1011, 2178), (1026, 5027), (1054, 2255), (1055, 684), (1058, 3362), (1072, 3281), (1089, 9149), (1090, 7914), (1104, 4499), (1106, 8310), (1124, 707), (1128, 5906), (1133, 5348), (1154, 7886), (1162, 6486), (1163, 7105), (1190, 8999), (1210, 6796), (1212, 2651), (1215, 1703), (1228, 4010), (1247, 5442), (1248, 5976), (1257, 6440), (1263, 2260), (1263, 5652), (1264, 5388), (1269, 1740), (1272, 4393), (1273, 5744), (1308, 5765), (1314, 3814), (1326, 7253), (1327, 1952), (1329, 3267), (1330, 8974), (1343, 7768), (1367, 6545), (1368, 3634), (1374, 7049), (1407, 9753), (1408, 9412), (1422, 6176), (1425, 3809), (1440, 3815), (1446, 8415), (1455, 9348), (1468, 2112), (1468, 3686), (1484, 4516), (1492, 1624), (1494, 6766), (1504, 521), (1509, 3223), (1515, 1539), (1527, 1658), (1528, 2847), (1538, 4272), (1553, 5953), (1558, 7292), (1566, 7567), (1589, 1830), (1596, 5297), (1614, 3713), (1624, 8740), (1640, 7443), (1640, 9748), (1645, 1419), (1648, 8883), (1649, 4976), (1652, 5863), (1656, 2067), (1658, 378), (1659, 4999), (1674, 1055), (1704, 6106), (1714, 3375), (1716, 926), (1719, 8193), (1720, 1006), (1727, 3064), (1728, 3615), (1730, 3584), (1732, 1378), (1737, 299), (1755, 3164), (1756, 7167), (1786, 313), (1802, 4169), (1809, 301), (1818, 1792), (1819, 767), (1835, 2194), (1844, 1462), (1870, 4683), (1875, 5308), (1878, 7088), (1881, 7578), (1887, 3739), (1902, 8985), (1909, 5567), (1913, 8626), (1917, 7777), (1928, 2586), (1930, 2398), (1942, 5577), (1957, 4619), (1965, 1439), (1970, 4696), (1976, 6410), (1983, 4398), (1986, 8803), (2013, 6957), (2045, 3287), (2053, 7236), (2065, 6331), (2082, 2113), (2093, 6375), (2094, 4753), (2114, 967), (2116, 5879), (2118, 3071), (2124, 5457), (2133, 3471), (2136, 1904), (2139, 1667), (2159, 773), (2165, 5476), (2170, 9493), (2178, 6106), (2182, 3297), (2194, 7842), (2210, 225), (2211, 6932), (2223, 8717), (2224, 61), (2236, 6152), (2240, 780), (2241, 4089), (2243, 6712), (2246, 546), (2252, 7391), (2256, 2373), (2256, 7249), (2259, 8228), (2272, 564), (2296, 941), (2330, 1693), (2357, 5590), (2361, 6561), (2370, 1551), (2377, 5458), (2395, 6305), (2404, 1914), (2405, 1894), (2450, 7318), (2471, 2904), (2479, 1280), (2487, 6582), (2506, 928), (2516, 1924), (2518, 8610), (2529, 5709), (2536, 3921), (2536, 9568), (2549, 6317), (2554, 2080), (2564, 8412), (2580, 9186), (2587, 4934), (2591, 7907), (2599, 6455), (2608, 4440), (2612, 4693), (2613, 4224), (2624, 4074), (2628, 1354), (2631, 74), (2680, 6683), (2707, 799), (2713, 5263), (2720, 9199), (2726, 3603), (2754, 7773), (2757, 2169), (2774, 421), (2774, 2088), (2776, 2358), (2792, 2211), (2809, 7361), (2821, 8578), (2822, 6741), (2826, 2128), (2831, 6752), (2837, 5455), (2838, 7172), (2866, 7483), (2868, 3464), (2869, 7810), (2879, 1686), (2881, 7312), (2883, 7717), (2886, 2240), (2888, 5604), (2896, 7575), (2903, 9354), (2907, 426), (2913, 9656), (2921, 4936), (2923, 255), (2926, 4621), (2948, 923), (2972, 1495), (2974, 7701), (2982, 6428), (3003, 6874), (3021, 2341), (3025, 6310), (3031, 5298), (3037, 6132), (3057, 1559), (3064, 3826), (3064, 9175), (3065, 6573), (3067, 9121), (3071, 2577), (3088, 4578), (3089, 7299), (3094, 5402), (3105, 7491), (3107, 3189), (3128, 8438), (3131, 2011), (3131, 7143), (3145, 2701), (3148, 1530), (3163, 700), (3174, 2352), (3178, 1132), (3189, 1059), (3189, 7932), (3198, 1030), (3199, 4549), (3211, 985), (3226, 986), (3241, 4225), (3267, 5590), (3287, 4910), (3289, 3001), (3291, 6493), (3309, 937), (3312, 1031), (3346, 8165), (3347, 5277), (3365, 7126), (3367, 7594), (3380, 223), (3402, 2534), (3403, 7740), (3412, 4309), (3416, 1926), (3431, 79), (3446, 9576), (3448, 8366), (3453, 6892), (3468, 8504), (3478, 8583), (3533, 1478), (3538, 6780), (3541, 201), (3549, 9888), (3558, 6192), (3570, 8851), (3578, 6961), (3578, 7372), (3588, 3476), (3594, 4438), (3596, 856), (3612, 3988), (3626, 1790), (3642, 4702), (3660, 7373), (3681, 4213), (3686, 8337), (3742, 700), (3747, 6947), (3753, 4628), (3762, 5606), (3800, 9160), (3812, 6830), (3829, 6491), (3841, 89), (3851, 9108), (3853, 4526), (3885, 3408), (3897, 9971), (3900, 3080), (3909, 4471), (3923, 4636), (3940, 2200), (3976, 8035), (3980, 2062), (3981, 4518), (3990, 2040), (3992, 6382), (4004, 3386), (4011, 8310), (4021, 1136), (4028, 2524), (4038, 3540), (4063, 4331), (4079, 1983), (4079, 7989), (4082, 3336), (4085, 3222), (4089, 8169), (4098, 1043), (4110, 6787), (4116, 4995), (4124, 4532), (4124, 5588), (4131, 5315), (4137, 5546), (4138, 3841), (4141, 7501), (4150, 8986), (4152, 7737), (4169, 315), (4171, 775), (4175, 7568), (4183, 7644), (4199, 8969), (4200, 9811), (4240, 6972), (4242, 7542), (4247, 5837), (4256, 2421), (4283, 4176), (4294, 5563), (4335, 2079), (4335, 6857), (4338, 9191), (4366, 9140), (4371, 4613), (4408, 4629), (4410, 7319), (4413, 7644), (4422, 2732), (4431, 3115), (4443, 2918), (4457, 7520), (4457, 7875), (4467, 4762), (4478, 2418), (4495, 7031), (4524, 8332), (4525, 7653), (4540, 2210), (4542, 1891), (4565, 1361), (4569, 3301), (4572, 6064), (4584, 5125), (4595, 1262), (4612, 2903), (4621, 4320), (4624, 3131), (4630, 2494), (4633, 5154), (4635, 1969), (4651, 3205), (4654, 8520), (4670, 4591), (4670, 7855), (4677, 3815), (4686, 1080), (4703, 1610), (4705, 8393), (4715, 9267), (4732, 1942), (4749, 1893), (4751, 2957), (4755, 8693), (4759, 3978), (4800, 6046), (4806, 9956), (4848, 6335), (4870, 3540), (4882, 4295), (4892, 3008), (4896, 4881), (4897, 5278), (4903, 3186), (4909, 8146), (4914, 4184), (4929, 3108), (4934, 5980), (4944, 9436), (4944, 9895), (4953, 1688), (4957, 797), (4962, 5008), (4972, 2426), (4974, 2187), (5006, 4359), (5010, 3571), (5017, 1780), (5020, 4326), (5038, 5840), (5061, 543), (5067, 2078), (5073, 6673), (5080, 7641), (5083, 7781), (5107, 2352), (5108, 950), (5112, 9283), (5120, 635), (5124, 8351), (5126, 1457), (5130, 4781), (5143, 5320), (5145, 9544), (5154, 1389), (5174, 2368), (5183, 6844), (5194, 3031), (5195, 3309), (5196, 3883), (5197, 4856), (5199, 525), (5201, 5933), (5226, 6638), (5234, 8418), (5244, 9641), (5245, 7575), (5245, 9533), (5270, 9424), (5273, 7186), (5275, 6812), (5277, 670), (5281, 497), (5291, 2454), (5301, 1376), (5312, 6390), (5316, 686), (5317, 5656), (5334, 2233), (5358, 1130), (5359, 3041), (5390, 5540), (5412, 2378), (5424, 3620), (5444, 5896), (5451, 4418), (5456, 9421), (5462, 273), (5478, 1628), (5481, 9266), (5486, 6476), (5548, 302), (5550, 6682), (5573, 2596), (5573, 8594), (5581, 2753), (5586, 6850), (5601, 2981), (5611, 9425), (5613, 1585), (5616, 8908), (5617, 6728), (5620, 2072), (5624, 2962), (5630, 7793), (5631, 432), (5632, 1684), (5634, 1653), (5658, 9860), (5660, 5271), (5681, 6877), (5683, 8898), (5685, 4947), (5688, 7292), (5692, 6070), (5708, 6118), (5726, 6258), (5739, 458), (5751, 4057), (5758, 2209), (5759, 3771), (5761, 2851), (5764, 4853), (5775, 499), (5792, 7352), (5818, 5086), (5836, 5353), (5844, 6321), (5857, 3413), (5875, 931), (5891, 7294), (5908, 2311), (5937, 374), (5937, 2734), (5937, 4061), (5943, 6939), (5951, 2991), (5952, 4526), (5953, 9299), (5954, 4200), (5973, 2320), (5974, 2267), (5980, 2540), (5996, 3834), (5997, 6818), (6005, 4143), (6009, 2585), (6017, 7387), (6021, 6085), (6034, 5018), (6043, 8478), (6046, 7539), (6052, 4619), (6055, 3711), (6056, 2726), (6074, 3067), (6082, 1260), (6094, 9391), (6100, 5272), (6112, 5196), (6137, 2478), (6145, 2542), (6165, 5369), (6166, 1591), (6185, 1816), (6198, 1462), (6202, 6987), (6208, 8299), (6209, 2922), (6220, 3707), (6242, 760), (6248, 1523), (6248, 4564), (6277, 5738), (6302, 5204), (6306, 4954), (6310, 1007), (6315, 9655), (6320, 9426), (6323, 7607), (6331, 842), (6333, 576), (6376, 5709), (6376, 8222), (6391, 282), (6407, 9253), (6423, 6069), (6434, 299), (6439, 8221), (6444, 5479), (6444, 7720), (6450, 1780), (6487, 8595), (6496, 3372), (6501, 3454), (6510, 5785), (6517, 7288), (6525, 4267), (6529, 7088), (6538, 1847), (6559, 1594), (6574, 1896), (6577, 5175), (6598, 8663), (6603, 1144), (6603, 9126), (6628, 5191), (6630, 6224), (6632, 4470), (6633, 6534), (6636, 9235), (6640, 5507), (6646, 5664), (6698, 3936), (6706, 1070), (6710, 2016), (6717, 3275), (6721, 4532), (6723, 5440), (6726, 3109), (6728, 3289), (6730, 5415), (6741, 266), (6743, 3606), (6743, 6040), (6745, 230), (6749, 9742), (6771, 7503), (6797, 2394), (6800, 2802), (6813, 4302), (6821, 121), (6823, 2867), (6828, 4045), (6878, 1878), (6882, 4324), (6903, 2953), (6909, 19), (6914, 8682), (6926, 5591), (6933, 8761), (6966, 8695), (7010, 2508), (7015, 8665), (7025, 8431), (7036, 810), (7036, 6805), (7039, 7443), (7042, 5579), (7051, 9231), (7054, 4306), (7070, 7604), (7070, 8678), (7072, 5706), (7083, 4846), (7090, 1276), (7090, 8633), (7095, 1757), (7100, 8573), (7106, 9196), (7113, 2135), (7113, 9417), (7115, 4901), (7127, 9521), (7133, 276), (7144, 4989), (7164, 6557), (7189, 2760), (7190, 1925), (7194, 1046), (7194, 7662), (7202, 2887), (7209, 6866), (7218, 4318), (7219, 8600), (7225, 1288), (7257, 2152), (7269, 1860), (7275, 3045), (7301, 4155), (7313, 3377), (7314, 788), (7316, 2809), (7323, 6473), (7323, 8343), (7347, 4861), (7363, 7289), (7367, 2452), (7371, 7784), (7379, 6892), (7383, 6746), (7394, 6548), (7401, 4697), (7405, 9202), (7423, 8158), (7439, 8051), (7454, 646), (7464, 7467), (7471, 4571), (7487, 4336), (7494, 2445), (7504, 685), (7512, 8488), (7524, 3801), (7537, 84), (7557, 8400), (7568, 3928), (7577, 4141), (7584, 1935), (7590, 9632), (7604, 4327), (7624, 9325), (7640, 5591), (7655, 7186), (7702, 7012), (7713, 4998), (7748, 8814), (7750, 5537), (7755, 8894), (7756, 9513), (7775, 1875), (7781, 1160), (7787, 1335), (7806, 4062), (7816, 1576), (7852, 2653), (7852, 9314), (7876, 7583), (7894, 8676), (7899, 8582), (7903, 214), (7906, 2090), (7920, 7895), (7936, 7420), (7940, 8159), (7942, 3456), (7957, 7977), (7961, 7656), (7965, 8307), (7966, 3254), (7974, 9224), (7980, 4314), (7988, 4135), (7993, 2299), (7993, 7007), (7994, 8170), (7999, 740), (7999, 2037), (8037, 7866), (8041, 4497), (8042, 9947), (8063, 3388), (8080, 2560), (8081, 3324), (8083, 3629), (8114, 197), (8126, 4227), (8143, 5036), (8147, 3506), (8148, 4055), (8153, 9567), (8196, 8191), (8228, 5336), (8248, 9399), (8251, 6922), (8274, 4858), (8290, 9777), (8303, 7964), (8320, 5607), (8322, 3799), (8328, 4377), (8330, 8085), (8337, 6638), (8339, 548), (8348, 844), (8363, 7678), (8365, 5318), (8368, 1759), (8370, 9650), (8373, 7845), (8374, 9754), (8394, 5197), (8396, 8060), (8404, 4539), (8409, 6184), (8415, 3706), (8429, 2700), (8471, 148), (8473, 4235), (8482, 6455), (8490, 4561), (8491, 6779), (8526, 5745), (8527, 7863), (8537, 1901), (8539, 423), (8549, 5275), (8552, 1184), (8567, 3710), (8576, 8369), (8581, 4046), (8582, 4123), (8585, 5316), (8610, 7705), (8660, 9712), (8673, 6002), (8678, 1252), (8701, 1437), (8733, 6412), (8734, 6364), (8740, 5089), (8757, 3316), (8780, 1085), (8781, 3086), (8787, 6581), (8793, 9121), (8805, 5109), (8823, 2807), (8835, 5640), (8838, 1719), (8838, 5659), (8841, 8539), (8854, 2316), (8857, 9160), (8868, 142), (8869, 6393), (8892, 6243), (8893, 3308), (8900, 7854), (8914, 303), (8918, 8267), (8949, 3964), (8950, 6220), (8957, 5831), (8959, 4458), (8982, 8701), (8984, 5358), (8985, 6896), (8995, 5128), (8998, 6781), (9002, 6771), (9014, 287), (9016, 5307), (9021, 7232), (9041, 3740), (9063, 42), (9065, 2556), (9076, 4232), (9079, 1763), (9087, 7369), (9103, 4204), (9111, 7302), (9118, 7299), (9127, 8742), (9133, 8851), (9141, 7598), (9149, 2236), (9163, 6263), (9214, 5531), (9214, 8612), (9231, 7016), (9236, 7499), (9236, 8861), (9248, 2003), (9262, 6173), (9265, 8806), (9267, 4200), (9281, 6146), (9284, 3489), (9292, 3960), (9347, 4520), (9367, 7541), (9371, 3912), (9381, 7678), (9397, 1660), (9402, 6193), (9408, 7570), (9437, 4112), (9438, 679), (9442, 8807), (9451, 7518), (9468, 1963), (9480, 6829), (9481, 6459), (9509, 2767), (9533, 8616), (9534, 528), (9536, 6400), (9536, 6490), (9538, 2785), (9579, 3876), (9596, 1907), (9636, 182), (9638, 1798), (9644, 2523), (9646, 3985), (9650, 7338), (9651, 4074), (9663, 2969), (9685, 6754), (9687, 1239), (9688, 5187), (9725, 4420), (9731, 2324), (9731, 8341), (9754, 2273), (9754, 9569), (9758, 863), (9763, 5580), (9770, 8661), (9814, 7868), (9821, 4793), (9823, 7230), (9833, 388), (9844, 2109), (9853, 9644), (9860, 5810), (9878, 9304), (9879, 6692), (9887, 36), (9887, 8178), (9895, 5741), (9904, 2440), (9904, 5180), (9910, 6868), (9910, 7319), (9924, 9941), (9931, 7222), (9946, 8338), (9957, 4132), (9997, 4738)]\n",
            "Array de distancias adyacentes en x, 500 primeros puntos [9, 5, 19, 3, 5, 13, 23, 20, 5, 4, 25, 1, 0, 4, 2, 2, 2, 8, 2, 5, 2, 4, 1, 10, 9, 14, 2, 12, 4, 2, 6, 25, 4, 11, 10, 17, 24, 4, 8, 13, 17, 41, 4, 37, 3, 16, 19, 1, 2, 4, 7, 3, 21, 19, 12, 11, 1, 15, 11, 27, 1, 4, 5, 12, 6, 4, 8, 10, 8, 28, 2, 9, 6, 4, 0, 8, 16, 1, 6, 5, 27, 9, 14, 15, 42, 11, 19, 17, 5, 6, 6, 2, 42, 4, 6, 0, 6, 6, 7, 10, 15, 28, 1, 3, 14, 17, 1, 14, 2, 18, 4, 5, 21, 8, 1, 27, 20, 2, 3, 13, 19, 1, 9, 6, 0, 1, 5, 3, 1, 35, 6, 12, 1, 2, 1, 13, 24, 1, 6, 33, 1, 14, 3, 15, 6, 9, 13, 0, 16, 8, 2, 10, 5, 6, 12, 1, 10, 15, 5, 8, 23, 7, 18, 10, 16, 0, 5, 3, 1, 3, 4, 2, 1, 15, 30, 10, 2, 3, 1, 7, 1, 2, 2, 5, 18, 1, 30, 16, 7, 9, 1, 16, 9, 26, 5, 3, 3, 6, 15, 7, 4, 4, 11, 2, 12, 15, 8, 5, 6, 7, 3, 27, 32, 8, 12, 17, 11, 1, 20, 2, 2, 6, 9, 3, 3, 20, 6, 5, 8, 4, 12, 16, 1, 12, 1, 12, 4, 1, 2, 3, 6, 4, 0, 3, 13, 24, 34, 27, 4, 9, 7, 18, 9, 1, 45, 21, 8, 8, 19, 10, 2, 11, 7, 0, 13, 5, 10, 16, 7, 4, 8, 9, 4, 1, 11, 4, 3, 49, 27, 6, 7, 6, 28, 3, 17, 0, 2, 16, 17, 12, 1, 4, 5, 6, 1, 28, 2, 1, 10, 2, 2, 3, 2, 8, 7, 4, 6, 8, 2, 3, 22, 24, 2, 8, 21, 18, 4, 6, 6, 20, 7, 0, 1, 2, 4, 17, 1, 5, 11, 2, 21, 3, 0, 14, 3, 15, 11, 4, 11, 0, 9, 1, 12, 15, 15, 26, 20, 2, 2, 18, 3, 34, 1, 18, 2, 13, 22, 1, 9, 4, 15, 15, 2, 5, 15, 10, 55, 5, 3, 8, 9, 12, 8, 0, 10, 6, 2, 16, 14, 16, 18, 21, 5, 56, 5, 6, 9, 38, 12, 17, 12, 10, 2, 32, 12, 3, 9, 14, 17, 36, 4, 1, 9, 2, 12, 7, 10, 7, 10, 25, 16, 0, 3, 3, 4, 9, 12, 6, 8, 0, 7, 6, 1, 3, 9, 2, 17, 2, 4, 8, 16, 1, 40, 2, 5, 9, 27, 11, 41, 0, 3, 28, 5, 37, 2, 3, 9, 9, 12, 14, 0, 10, 11, 17, 29, 1, 15, 2, 23, 4, 3, 12, 11, 17, 9, 3, 6, 3, 2, 16, 3, 16, 0, 7, 9, 17, 2, 10, 17, 17, 2, 4, 4, 41, 6, 42, 22, 12, 10, 4, 1, 6, 6, 5, 15, 5, 10, 0, 9, 4]\n",
            "Array de distancias en x, 500 siguientes puntos [5, 10, 2, 32, 4, 7, 3, 18, 23, 6, 6, 7, 3, 24, 1, 4, 8, 4, 2, 4, 13, 2, 9, 20, 9, 11, 1, 1, 1, 2, 2, 25, 8, 10, 1, 0, 25, 3, 2, 2, 4, 10, 10, 11, 4, 1, 17, 24, 1, 31, 22, 12, 20, 7, 5, 6, 16, 3, 5, 62, 2, 23, 0, 8, 5, 15, 10, 2, 3, 1, 3, 4, 6, 1, 1, 2, 24, 2, 21, 2, 2, 3, 4, 16, 18, 13, 12, 7, 1, 2, 3, 11, 17, 26, 18, 8, 13, 18, 16, 17, 29, 0, 0, 6, 8, 1, 1, 1, 19, 1, 6, 16, 1, 8, 4, 8, 4, 13, 9, 3, 6, 3, 1, 18, 8, 12, 6, 12, 25, 8, 20, 1, 19, 13, 4, 6, 1, 11, 22, 6, 0, 29, 25, 4, 4, 5, 5, 3, 8, 2, 43, 0, 15, 16, 16, 11, 5, 5, 0, 6, 37, 9, 5, 9, 7, 8, 4, 9, 21, 15, 3, 21, 5, 0, 25, 2, 2, 1, 3, 4, 6, 52, 8, 4, 7, 4, 2, 3, 2, 2, 11, 2, 0, 2, 4, 22, 26, 3, 13, 8, 2, 5, 50, 4, 21, 6, 5, 12, 7, 33, 44, 5, 10, 11, 0, 3, 3, 9, 3, 16, 0, 2, 11, 7, 0, 5, 5, 6, 7, 0, 2, 12, 6, 11, 20, 25, 1, 4, 0, 8, 7, 9, 1, 6, 32, 12, 6, 26, 12, 1, 2, 7, 0, 24, 16, 4, 4, 8, 4, 11, 7, 4, 18, 16, 15, 10, 7, 16, 7, 10, 8, 12, 13, 20, 11, 9, 7, 6, 14, 20, 16, 15, 47, 11, 35, 2, 5, 1, 19, 6, 6, 19, 10, 36, 0, 24, 18, 5, 4, 3, 14, 16, 4, 2, 15, 4, 4, 1, 8, 6, 8, 5, 0, 1, 5, 0, 38, 4, 1, 21, 17, 1, 2, 31, 12, 17, 4, 1, 5, 43, 32, 20, 3, 23, 16, 13, 17, 2, 6, 2, 7, 2, 9, 15, 2, 3, 2, 3, 1, 20, 2, 8, 5, 6, 14, 42, 2, 9, 8, 1, 35, 1, 10, 2, 10, 3, 15, 9, 5, 1, 3, 25, 50, 13, 5, 23, 32, 1, 6, 17, 23, 1, 6, 6, 12, 18, 12, 3, 0, 3, 13, 3, 11, 1, 23, 1, 7, 14, 4, 31, 1, 7, 2, 23, 2, 1, 10, 3, 4, 12, 2, 5, 20, 22, 2, 11, 3, 8, 16, 8, 7, 9, 6, 8, 8, 14, 51, 0, 17, 5, 0, 12, 14, 3, 2, 14, 3, 8, 55, 20, 4, 10, 16, 5, 6, 29, 1, 4, 9, 17, 12, 1, 28, 24, 1, 2, 0, 2, 41, 17, 40, 2, 6, 2, 4, 1, 12, 22, 2, 1, 37, 6, 0, 23, 0, 4, 5, 7, 44, 7, 2, 10, 11, 9, 7, 18, 1, 8, 0, 8, 9, 0, 6, 0, 14, 7, 15, 11, 40]\n",
            "Distancia minima: 7.615773105863909\n",
            "Entre puntos ordenados:  920 y 921\n",
            "Coordenadas Punto a: 9111 , 7302\n",
            "Coordenadas Punto b: 9118 ,  7299\n",
            "Primera opción realizada, sigo investigando, ¿podría ordenarlos según coordenada y? a lo mejor no\n",
            "El siguiente paso es seleccionar los puntos a la izquierda de la línea vertical divisoria x=500\n",
            "Dicha distancia horizontal a la derecha y a la izquierda de la línea ha de ser menor que distmin\n"
          ],
          "name": "stdout"
        }
      ]
    },
    {
      "cell_type": "code",
      "metadata": {
        "id": "irN3ta9KAXGs",
        "colab_type": "code",
        "colab": {}
      },
      "source": [
        ""
      ],
      "execution_count": 0,
      "outputs": []
    }
  ]
}